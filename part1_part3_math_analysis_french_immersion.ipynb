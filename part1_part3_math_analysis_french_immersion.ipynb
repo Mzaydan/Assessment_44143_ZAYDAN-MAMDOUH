{
 "cells": [
  {
   "cell_type": "code",
   "execution_count": 2,
   "id": "4141d504",
   "metadata": {},
   "outputs": [
    {
     "name": "stderr",
     "output_type": "stream",
     "text": [
      "C:\\Users\\User\\AppData\\Local\\Temp\\ipykernel_13272\\1793549732.py:8: DtypeWarning: Columns (4) have mixed types. Specify dtype option on import or set low_memory=False.\n",
      "  marks_df = pd.read_csv(\"senior_marks.csv\")\n"
     ]
    },
    {
     "name": "stdout",
     "output_type": "stream",
     "text": [
      "Marks data:\n",
      "<class 'pandas.core.frame.DataFrame'>\n",
      "RangeIndex: 399981 entries, 0 to 399980\n",
      "Data columns (total 8 columns):\n",
      " #   Column              Non-Null Count   Dtype  \n",
      "---  ------              --------------   -----  \n",
      " 0   academic_yr         399981 non-null  int64  \n",
      " 1   subject_code        399981 non-null  int64  \n",
      " 2   grade_level         399078 non-null  object \n",
      " 3   credit_received     399981 non-null  float64\n",
      " 4   loi                 399981 non-null  object \n",
      " 5   student_nbr_hashed  399981 non-null  int64  \n",
      " 6   school_nbr_hashed   399981 non-null  int64  \n",
      " 7   mark                399981 non-null  object \n",
      "dtypes: float64(1), int64(4), object(3)\n",
      "memory usage: 24.4+ MB\n",
      "None\n",
      "   academic_yr  subject_code grade_level  credit_received loi  \\\n",
      "0         2018           169         30F              1.0   1   \n",
      "1         2018           108         42S              1.0   1   \n",
      "2         2018           274         10S              1.0   1   \n",
      "3         2019             1         10E              1.0   1   \n",
      "4         2019            80         10E              1.0   1   \n",
      "\n",
      "   student_nbr_hashed  school_nbr_hashed mark  \n",
      "0          -892975303         1530474944   CO  \n",
      "1           626087110          839850712  100  \n",
      "2          1203813983          839850712  085  \n",
      "3         -1112627507          393550485  100  \n",
      "4         -1112627507          393550485  067  \n",
      "\n",
      "Grant data:\n",
      "<class 'pandas.core.frame.DataFrame'>\n",
      "RangeIndex: 6417 entries, 0 to 6416\n",
      "Data columns (total 4 columns):\n",
      " #   Column              Non-Null Count  Dtype\n",
      "---  ------              --------------  -----\n",
      " 0   academic_yr         6417 non-null   int64\n",
      " 1   stu_grant_code      6417 non-null   int64\n",
      " 2   student_nbr_hashed  6417 non-null   int64\n",
      " 3   school_nbr_hashed   6417 non-null   int64\n",
      "dtypes: int64(4)\n",
      "memory usage: 200.7 KB\n",
      "None\n",
      "   academic_yr  stu_grant_code  student_nbr_hashed  school_nbr_hashed\n",
      "0         2018             110         -1166479635        -1702353697\n",
      "1         2018             110          1390699299        -1702353697\n",
      "2         2018             110          1235962137        -1702353697\n",
      "3         2018             110           -11014225        -1702353697\n",
      "4         2018             110           829098392        -1702353697\n"
     ]
    }
   ],
   "source": [
    "# Step 1: Load data and libraries\n",
    "import pandas as pd\n",
    "import matplotlib.pyplot as plt\n",
    "import seaborn as sns\n",
    "from scipy import stats\n",
    "\n",
    "# Load data\n",
    "marks_df = pd.read_csv(\"senior_marks.csv\")\n",
    "grants_df = pd.read_csv(\"grant_data.csv\")\n",
    "\n",
    "# Display basic info to confirm structure\n",
    "print(\"Marks data:\")\n",
    "print(marks_df.info())\n",
    "print(marks_df.head())\n",
    "\n",
    "print(\"\\nGrant data:\")\n",
    "print(grants_df.info())\n",
    "print(grants_df.head())\n"
   ]
  },
  {
   "cell_type": "code",
   "execution_count": 3,
   "id": "ffff858d",
   "metadata": {},
   "outputs": [
    {
     "name": "stdout",
     "output_type": "stream",
     "text": [
      "\n",
      "Immersion-only data:\n",
      "immersion_type\n",
      "Immersion - Early    34034\n",
      "Immersion - Late       236\n",
      "Name: count, dtype: int64\n",
      "      academic_yr  subject_code grade_level  credit_received loi  \\\n",
      "2447         2018             1         10F              1.0   1   \n",
      "2448         2018            80         10F              1.0   1   \n",
      "2449         2018            97         15S              0.5   1   \n",
      "2450         2018           101         10F              1.0   2   \n",
      "2451         2018           120         10F              1.0   1   \n",
      "\n",
      "      student_nbr_hashed  school_nbr_hashed_x mark  stu_grant_code  \\\n",
      "2447           -50826676           1422497309  086           110.0   \n",
      "2448           -50826676           1422497309  091           110.0   \n",
      "2449           -50826676           1422497309  095           110.0   \n",
      "2450           -50826676           1422497309  075           110.0   \n",
      "2451           -50826676           1422497309  072           110.0   \n",
      "\n",
      "      school_nbr_hashed_y     immersion_type  \n",
      "2447         1.422497e+09  Immersion - Early  \n",
      "2448         1.422497e+09  Immersion - Early  \n",
      "2449         1.422497e+09  Immersion - Early  \n",
      "2450         1.422497e+09  Immersion - Early  \n",
      "2451         1.422497e+09  Immersion - Early  \n"
     ]
    }
   ],
   "source": [
    "# Merge on student ID and academic year\n",
    "merged_df = pd.merge(marks_df, grants_df, on=[\"student_nbr_hashed\", \"academic_yr\"], how=\"left\")\n",
    "\n",
    "# Keep only French Immersion (110 or 112)\n",
    "immersion_df = merged_df[merged_df[\"stu_grant_code\"].isin([110, 112])].copy()\n",
    "\n",
    "# Optional: create a new label column for early/late\n",
    "def immersion_type(code):\n",
    "    if code == 110:\n",
    "        return \"Immersion - Early\"\n",
    "    elif code == 112:\n",
    "        return \"Immersion - Late\"\n",
    "    else:\n",
    "        return \"Other\"\n",
    "\n",
    "immersion_df[\"immersion_type\"] = immersion_df[\"stu_grant_code\"].apply(immersion_type)\n",
    "\n",
    "# Check the result\n",
    "print(\"\\nImmersion-only data:\")\n",
    "print(immersion_df[\"immersion_type\"].value_counts())\n",
    "print(immersion_df.head())\n"
   ]
  },
  {
   "cell_type": "markdown",
   "id": "c2daea0b",
   "metadata": {},
   "source": [
    "QUESTION 1  \n"
   ]
  },
  {
   "cell_type": "code",
   "execution_count": 4,
   "id": "bb5eae38",
   "metadata": {},
   "outputs": [],
   "source": [
    "valid_math_codes = [\n",
    "    3909, 3900, 3907, 3903, 3000, 3001, 3004, 3005,\n",
    "    3006, 3007, 3008, 3905, 3908, 3940, 3939, 3923, 3918, 3919\n",
    "]\n"
   ]
  },
  {
   "cell_type": "code",
   "execution_count": 5,
   "id": "f6a6591a",
   "metadata": {},
   "outputs": [
    {
     "name": "stdout",
     "output_type": "stream",
     "text": [
      "      academic_yr  subject_code grade_level  credit_received loi  \\\n",
      "2496         2018          3000         40S              1.0   1   \n",
      "2497         2018          3939         40S              1.0   1   \n",
      "2900         2018          3000         30S              1.0   1   \n",
      "2901         2018          3900         45S              0.5   1   \n",
      "2902         2018          3939         40S              1.0   1   \n",
      "\n",
      "      student_nbr_hashed  school_nbr_hashed_x   mark  stu_grant_code  \\\n",
      "2496           381411378           1422497309  100.0           110.0   \n",
      "2497           381411378           1422497309  100.0           110.0   \n",
      "2900          1985979674           1422497309   99.0           110.0   \n",
      "2901          1985979674           1422497309   98.0           110.0   \n",
      "2902          1985979674           1422497309   87.0           110.0   \n",
      "\n",
      "      school_nbr_hashed_y     immersion_type  \n",
      "2496         1.422497e+09  Immersion - Early  \n",
      "2497         1.422497e+09  Immersion - Early  \n",
      "2900         1.422497e+09  Immersion - Early  \n",
      "2901         1.422497e+09  Immersion - Early  \n",
      "2902         1.422497e+09  Immersion - Early  \n"
     ]
    }
   ],
   "source": [
    "# Keep only valid math courses\n",
    "math_df = immersion_df[immersion_df[\"subject_code\"].isin(valid_math_codes)].copy()\n",
    "\n",
    "# Remove non-numeric or invalid marks (e.g., 'CO', 'IN', 'S')\n",
    "math_df = math_df[pd.to_numeric(math_df[\"mark\"], errors=\"coerce\").notna()]\n",
    "math_df[\"mark\"] = math_df[\"mark\"].astype(float)\n",
    "print(math_df.head())\n"
   ]
  },
  {
   "cell_type": "code",
   "execution_count": 12,
   "id": "173db107",
   "metadata": {},
   "outputs": [
    {
     "name": "stdout",
     "output_type": "stream",
     "text": [
      "\n",
      "Math performance by language of instruction (Immersion only):\n",
      "             loi_label       mean        std  count\n",
      "0  English Instruction  75.115445  18.278978    641\n",
      "1   French Instruction  77.102410  16.804498   1826\n"
     ]
    }
   ],
   "source": [
    "# Map loi to readable labels\n",
    "loi_map = {1: \"English Instruction\", 2: \"French Instruction\"}\n",
    "math_df[\"loi_label\"] = math_df[\"loi\"].map(loi_map)\n",
    "\n",
    "# Group by language of instruction\n",
    "loi_stats = math_df.groupby(\"loi_label\")[\"mark\"].agg([\"mean\", \"std\", \"count\"]).reset_index()\n",
    "\n",
    "print(\"\\nMath performance by language of instruction (Immersion only):\")\n",
    "print(loi_stats)\n"
   ]
  },
  {
   "cell_type": "code",
   "execution_count": 13,
   "id": "84a58341",
   "metadata": {},
   "outputs": [
    {
     "name": "stdout",
     "output_type": "stream",
     "text": [
      "object\n",
      "Welch's t-test: t = 6.850, p = 7.607e-12\n"
     ]
    }
   ],
   "source": [
    "# Check data types\n",
    "print(immersion_df['mark'].dtype)\n",
    "\n",
    "# Convert to numeric (coerce errors to NaN)\n",
    "immersion_df['mark'] = pd.to_numeric(immersion_df['mark'], errors='coerce')\n",
    "\n",
    "# Optionally drop rows where 'mark' is NaN after conversion\n",
    "immersion_df = immersion_df.dropna(subset=['mark'])\n",
    "\n",
    "# Now define groups again\n",
    "group1 = immersion_df[immersion_df['loi'] == 1]['mark']\n",
    "group2 = immersion_df[immersion_df['loi'] == 2]['mark']\n",
    "\n",
    "# Run t-test again\n",
    "t_stat, p_val = stats.ttest_ind(group1, group2, equal_var=False)\n",
    "print(f\"Welch's t-test: t = {t_stat:.3f}, p = {p_val:.3e}\")\n"
   ]
  },
  {
   "cell_type": "markdown",
   "id": "55052e96",
   "metadata": {},
   "source": [
    "QUESTION 2\n"
   ]
  },
  {
   "cell_type": "code",
   "execution_count": 16,
   "id": "0fb78c7c",
   "metadata": {},
   "outputs": [
    {
     "name": "stdout",
     "output_type": "stream",
     "text": [
      "   student_nbr_hashed  academic_yr  avg_math_mark  num_french_courses\n",
      "0         -2144821644         2020           67.0                   0\n",
      "1         -2140243728         2019           60.0                   0\n",
      "2         -2140243728         2020           67.0                   5\n",
      "3         -2134519352         2018           58.0                   3\n",
      "4         -2134519352         2019           53.0                   0\n"
     ]
    }
   ],
   "source": [
    "# Step 2: Count French courses per student-year\n",
    "immersion_df = immersion_df.copy()\n",
    "immersion_df[\"is_french_course\"] = immersion_df[\"loi\"] == 2\n",
    "\n",
    "french_course_counts = immersion_df.groupby(\n",
    "    [\"student_nbr_hashed\", \"academic_yr\"]\n",
    ")[\"is_french_course\"].sum().reset_index().rename(columns={\"is_french_course\": \"num_french_courses\"})\n",
    "\n",
    "# Step 3: Calculate average math mark per student-year\n",
    "# List of math course codes you provided\n",
    "math_courses = [3909, 3900, 3907, 3903, 3000, 3001, 3004, 3005, 3006,\n",
    "                3007, 3008, 3905, 3908, 3940, 3939, 3923, 3918, 3919]\n",
    "\n",
    "# Filter math courses\n",
    "math_df = immersion_df[immersion_df[\"subject_code\"].isin(math_courses)].copy()\n",
    "\n",
    "# Convert Mark to numeric, ignoring non-numeric marks\n",
    "def to_numeric_mark(x):\n",
    "    try:\n",
    "        return float(x)\n",
    "    except:\n",
    "        return None\n",
    "\n",
    "math_df[\"mark_numeric\"] = math_df[\"mark\"].apply(to_numeric_mark)\n",
    "math_df = math_df.dropna(subset=[\"mark_numeric\"])\n",
    "\n",
    "avg_math_marks = math_df.groupby(\n",
    "    [\"student_nbr_hashed\", \"academic_yr\"]\n",
    ")[\"mark_numeric\"].mean().reset_index().rename(columns={\"mark_numeric\": \"avg_math_mark\"})\n",
    "\n",
    "# Merge counts and averages\n",
    "result_df = pd.merge(avg_math_marks, french_course_counts, on=[\"student_nbr_hashed\", \"academic_yr\"], how=\"left\")\n",
    "\n",
    "print(result_df.head())\n"
   ]
  },
  {
   "cell_type": "code",
   "execution_count": 17,
   "id": "306a928d",
   "metadata": {},
   "outputs": [
    {
     "name": "stdout",
     "output_type": "stream",
     "text": [
      "Number of unique students: 1581\n"
     ]
    }
   ],
   "source": [
    "num_students = result_df[\"student_nbr_hashed\"].nunique()\n",
    "print(f\"Number of unique students: {num_students}\")\n"
   ]
  },
  {
   "cell_type": "code",
   "execution_count": 18,
   "id": "48bd072f",
   "metadata": {},
   "outputs": [
    {
     "name": "stdout",
     "output_type": "stream",
     "text": [
      "    num_french_courses  count_students  mean_math_mark  std_math_mark\n",
      "0                    0             638       75.027634      18.142045\n",
      "1                    1              86       77.136364      15.798430\n",
      "2                    2             140       74.465517      17.643087\n",
      "3                    3             249       72.446105      16.428038\n",
      "4                    4             356       75.187066      15.850671\n",
      "5                    5             379       76.862012      15.977287\n",
      "6                    6             323       77.993137      16.512888\n",
      "7                    7             161       81.444123      14.510491\n",
      "8                    8             106       78.194690      15.329482\n",
      "9                    9              49       79.457516      16.615316\n",
      "10                  10              11       87.250000       8.996211\n",
      "11                  11               6       85.928571      13.706533\n",
      "12                  12               2       86.500000       4.949747\n"
     ]
    },
    {
     "data": {
      "image/png": "[encoded data removed]",
      "text/plain": [
       "<Figure size 800x500 with 1 Axes>"
      ]
     },
     "metadata": {},
     "output_type": "display_data"
    },
    {
     "name": "stdout",
     "output_type": "stream",
     "text": [
      "Pearson correlation: 0.097, p-value: 3.647e-07\n"
     ]
    }
   ],
   "source": [
    "import matplotlib.pyplot as plt\n",
    "import seaborn as sns\n",
    "from scipy.stats import pearsonr\n",
    "import numpy as np\n",
    "\n",
    "# 1. Group summary: mean math mark by number of French courses\n",
    "summary = result_df.groupby(\"num_french_courses\").agg(\n",
    "    count_students=(\"student_nbr_hashed\", \"nunique\"),\n",
    "    mean_math_mark=(\"avg_math_mark\", \"mean\"),\n",
    "    std_math_mark=(\"avg_math_mark\", \"std\")\n",
    ").reset_index()\n",
    "\n",
    "print(summary)\n",
    "\n",
    "# 2. Plot mean math mark by number of French courses\n",
    "plt.figure(figsize=(8,5))\n",
    "sns.lineplot(data=summary, x=\"num_french_courses\", y=\"mean_math_mark\", marker=\"o\")\n",
    "plt.fill_between(\n",
    "    summary[\"num_french_courses\"],\n",
    "    summary[\"mean_math_mark\"] - summary[\"std_math_mark\"],\n",
    "    summary[\"mean_math_mark\"] + summary[\"std_math_mark\"],\n",
    "    alpha=0.2\n",
    ")\n",
    "plt.xlabel(\"Number of French Courses\")\n",
    "plt.ylabel(\"Average Math Mark\")\n",
    "plt.title(\"Average Math Mark by Number of French Courses Taken\")\n",
    "plt.show()\n",
    "\n",
    "# 3. Pearson correlation between number of French courses and math mark\n",
    "# Remove rows with NaN if any\n",
    "clean_df = result_df.dropna(subset=[\"num_french_courses\", \"avg_math_mark\"])\n",
    "\n",
    "corr, pval = pearsonr(clean_df[\"num_french_courses\"], clean_df[\"avg_math_mark\"])\n",
    "print(f\"Pearson correlation: {corr:.3f}, p-value: {pval:.3e}\")\n"
   ]
  },
  {
   "cell_type": "markdown",
   "id": "5ac1f98b",
   "metadata": {},
   "source": [
    "QUESTION 3"
   ]
  },
  {
   "cell_type": "code",
   "execution_count": 20,
   "id": "1d7ee200",
   "metadata": {},
   "outputs": [
    {
     "name": "stdout",
     "output_type": "stream",
     "text": [
      "Pearson correlation: 0.424, p-value: 2.456e-38\n"
     ]
    },
    {
     "data": {
      "image/png": "[encoded data removed]",
      "text/plain": [
       "<Figure size 600x500 with 1 Axes>"
      ]
     },
     "metadata": {},
     "output_type": "display_data"
    }
   ],
   "source": [
    "# Step 1–2: Filter mandatory French language courses (subject 401, taught in French)\n",
    "french_lang_df = immersion_df[\n",
    "    (immersion_df[\"subject_code\"] == 401) & (immersion_df[\"loi\"] == 2)\n",
    "].copy()\n",
    "\n",
    "# Step 3: Clean and convert mark to numeric\n",
    "def to_numeric_mark(x):\n",
    "    try:\n",
    "        return float(x)\n",
    "    except:\n",
    "        return None\n",
    "\n",
    "french_lang_df[\"mark_numeric\"] = french_lang_df[\"mark\"].apply(to_numeric_mark)\n",
    "french_lang_df = french_lang_df.dropna(subset=[\"mark_numeric\"])\n",
    "\n",
    "# Step 4: Average French mark per student-year\n",
    "avg_french_marks = french_lang_df.groupby(\n",
    "    [\"student_nbr_hashed\", \"academic_yr\"]\n",
    ")[\"mark_numeric\"].mean().reset_index().rename(columns={\"mark_numeric\": \"avg_french_mark\"})\n",
    "\n",
    "# Step 5: Merge with previously computed average math marks\n",
    "math_french_df = pd.merge(\n",
    "    avg_math_marks, avg_french_marks, on=[\"student_nbr_hashed\", \"academic_yr\"], how=\"inner\"\n",
    ")\n",
    "\n",
    "# Step 6: Correlation + visualization\n",
    "from scipy.stats import pearsonr\n",
    "import seaborn as sns\n",
    "import matplotlib.pyplot as plt\n",
    "\n",
    "# Drop any missing values\n",
    "math_french_df = math_french_df.dropna(subset=[\"avg_math_mark\", \"avg_french_mark\"])\n",
    "\n",
    "# Correlation\n",
    "corr, pval = pearsonr(math_french_df[\"avg_french_mark\"], math_french_df[\"avg_math_mark\"])\n",
    "print(f\"Pearson correlation: {corr:.3f}, p-value: {pval:.3e}\")\n",
    "\n",
    "# Plot\n",
    "plt.figure(figsize=(6, 5))\n",
    "sns.scatterplot(data=math_french_df, x=\"avg_french_mark\", y=\"avg_math_mark\", alpha=0.5)\n",
    "sns.regplot(data=math_french_df, x=\"avg_french_mark\", y=\"avg_math_mark\", scatter=False, color=\"red\")\n",
    "plt.xlabel(\"Average French Course Mark\")\n",
    "plt.ylabel(\"Average Math Mark\")\n",
    "plt.title(\"Math vs. French Language Marks (Immersion Students)\")\n",
    "plt.tight_layout()\n",
    "plt.show()\n"
   ]
  },
  {
   "cell_type": "code",
   "execution_count": 21,
   "id": "aa972bc2",
   "metadata": {},
   "outputs": [
    {
     "name": "stdout",
     "output_type": "stream",
     "text": [
      "                            OLS Regression Results                            \n",
      "==============================================================================\n",
      "Dep. Variable:          avg_math_mark   R-squared:                       0.180\n",
      "Model:                            OLS   Adj. R-squared:                  0.179\n",
      "Method:                 Least Squares   F-statistic:                     185.5\n",
      "Date:                Sun, 29 Jun 2025   Prob (F-statistic):           2.46e-38\n",
      "Time:                        20:14:11   Log-Likelihood:                -3496.2\n",
      "No. Observations:                 849   AIC:                             6996.\n",
      "Df Residuals:                     847   BIC:                             7006.\n",
      "Df Model:                           1                                         \n",
      "Covariance Type:            nonrobust                                         \n",
      "===================================================================================\n",
      "                      coef    std err          t      P>|t|      [0.025      0.975]\n",
      "-----------------------------------------------------------------------------------\n",
      "const              45.1035      2.435     18.525      0.000      40.325      49.882\n",
      "avg_french_mark     0.4200      0.031     13.619      0.000       0.359       0.481\n",
      "==============================================================================\n",
      "Omnibus:                       48.713   Durbin-Watson:                   2.044\n",
      "Prob(Omnibus):                  0.000   Jarque-Bera (JB):               55.667\n",
      "Skew:                          -0.605   Prob(JB):                     8.17e-13\n",
      "Kurtosis:                       3.329   Cond. No.                         376.\n",
      "==============================================================================\n",
      "\n",
      "Notes:\n",
      "[1] Standard Errors assume that the covariance matrix of the errors is correctly specified.\n"
     ]
    }
   ],
   "source": [
    "import statsmodels.api as sm\n",
    "\n",
    "X = sm.add_constant(math_french_df[\"avg_french_mark\"])\n",
    "y = math_french_df[\"avg_math_mark\"]\n",
    "model = sm.OLS(y, X).fit()\n",
    "print(model.summary())\n"
   ]
  },
  {
   "cell_type": "code",
   "execution_count": 22,
   "id": "c29efe61",
   "metadata": {},
   "outputs": [
    {
     "name": "stdout",
     "output_type": "stream",
     "text": [
      "                  avg_math_mark                  avg_french_mark             \\\n",
      "                           mean        std count            mean        std   \n",
      "immersion_type                                                                \n",
      "Immersion - Early     77.470379  16.430647   844       77.149289  16.565972   \n",
      "Immersion - Late      86.600000  13.501852     5       85.000000  17.958285   \n",
      "\n",
      "                         \n",
      "                  count  \n",
      "immersion_type           \n",
      "Immersion - Early   844  \n",
      "Immersion - Late      5  \n"
     ]
    }
   ],
   "source": [
    "# Merge immersion_type into math_french_df\n",
    "immersion_type_map = immersion_df[[\"student_nbr_hashed\", \"academic_yr\", \"immersion_type\"]].drop_duplicates()\n",
    "math_french_df = pd.merge(math_french_df, immersion_type_map, on=[\"student_nbr_hashed\", \"academic_yr\"], how=\"left\")\n",
    "\n",
    "# Compare mean marks by immersion type\n",
    "type_summary = math_french_df.groupby(\"immersion_type\")[[\"avg_math_mark\", \"avg_french_mark\"]].agg([\"mean\", \"std\", \"count\"])\n",
    "print(type_summary)\n"
   ]
  },
  {
   "cell_type": "markdown",
   "id": "a40f404f",
   "metadata": {},
   "source": [
    "QUESTION 4"
   ]
  },
  {
   "cell_type": "code",
   "execution_count": null,
   "id": "3766214a",
   "metadata": {},
   "outputs": [
    {
     "name": "stdout",
     "output_type": "stream",
     "text": [
      "Pearson correlation: 0.392, p-value: 4.912e-35\n"
     ]
    }
   ],
   "source": [
    "# Filter for English courses\n",
    "english_course_codes = [21, 73, 74, 75, 35, 36, 37]  # Remove leading zeros for consistency\n",
    "english_df = immersion_df[immersion_df[\"subject_code\"].isin(english_course_codes)].copy()\n",
    "\n",
    "# Step 3: Convert Mark to numeric\n",
    "def to_numeric_mark(x):\n",
    "    try:\n",
    "        return float(x)\n",
    "    except:\n",
    "        return None\n",
    "\n",
    "english_df[\"mark_numeric\"] = english_df[\"mark\"].apply(to_numeric_mark)\n",
    "english_df = english_df.dropna(subset=[\"mark_numeric\"])\n",
    "\n",
    "# Step 4: Average English mark per student-year\n",
    "avg_english_marks = english_df.groupby(\n",
    "    [\"student_nbr_hashed\", \"academic_yr\"]\n",
    ")[\"mark_numeric\"].mean().reset_index().rename(columns={\"mark_numeric\": \"avg_english_mark\"})\n",
    "\n",
    "# Step 5: Merge with math averages\n",
    "math_english_df = pd.merge(\n",
    "    avg_math_marks, avg_english_marks, on=[\"student_nbr_hashed\", \"academic_yr\"], how=\"inner\"\n",
    ")\n",
    "\n",
    "# Step 6: Correlation\n",
    "from scipy.stats import pearsonr\n",
    "corr, pval = pearsonr(math_english_df[\"avg_english_mark\"], math_english_df[\"avg_math_mark\"])\n",
    "print(f\"Pearson correlation: {corr:.3f}, p-value: {pval:.3e}\")\n",
    "\n"
   ]
  },
  {
   "cell_type": "code",
   "execution_count": 25,
   "id": "1602c233",
   "metadata": {},
   "outputs": [
    {
     "name": "stdout",
     "output_type": "stream",
     "text": [
      "                            OLS Regression Results                            \n",
      "==============================================================================\n",
      "Dep. Variable:          avg_math_mark   R-squared:                       0.153\n",
      "Model:                            OLS   Adj. R-squared:                  0.152\n",
      "Method:                 Least Squares   F-statistic:                     166.0\n",
      "Date:                Sun, 29 Jun 2025   Prob (F-statistic):           4.91e-35\n",
      "Time:                        20:30:55   Log-Likelihood:                -3760.0\n",
      "No. Observations:                 919   AIC:                             7524.\n",
      "Df Residuals:                     917   BIC:                             7534.\n",
      "Df Model:                           1                                         \n",
      "Covariance Type:            nonrobust                                         \n",
      "====================================================================================\n",
      "                       coef    std err          t      P>|t|      [0.025      0.975]\n",
      "------------------------------------------------------------------------------------\n",
      "const               45.0650      2.583     17.449      0.000      39.996      50.134\n",
      "avg_english_mark     0.4070      0.032     12.885      0.000       0.345       0.469\n",
      "==============================================================================\n",
      "Omnibus:                       36.304   Durbin-Watson:                   1.804\n",
      "Prob(Omnibus):                  0.000   Jarque-Bera (JB):               39.615\n",
      "Skew:                          -0.502   Prob(JB):                     2.50e-09\n",
      "Kurtosis:                       3.168   Cond. No.                         442.\n",
      "==============================================================================\n",
      "\n",
      "Notes:\n",
      "[1] Standard Errors assume that the covariance matrix of the errors is correctly specified.\n"
     ]
    }
   ],
   "source": [
    "import statsmodels.api as sm\n",
    "\n",
    "X = sm.add_constant(math_english_df[\"avg_english_mark\"])\n",
    "y = math_english_df[\"avg_math_mark\"]\n",
    "model = sm.OLS(y, X).fit()\n",
    "print(model.summary())\n"
   ]
  },
  {
   "cell_type": "markdown",
   "id": "bbecf29a",
   "metadata": {},
   "source": [
    "QUESTION 5  "
   ]
  },
  {
   "cell_type": "code",
   "execution_count": 28,
   "id": "7c63bc9a",
   "metadata": {},
   "outputs": [
    {
     "name": "stdout",
     "output_type": "stream",
     "text": [
      "Early Immersion: mean = 76.16, std = 16.80, n = 2734\n",
      "Late Immersion: mean = 80.53, std = 15.41, n = 15\n",
      "\n",
      "Welch's t-test: t = -1.096, p = 2.913e-01\n"
     ]
    }
   ],
   "source": [
    "import pandas as pd\n",
    "from scipy.stats import ttest_ind\n",
    "\n",
    "# Step 1: Define math course codes\n",
    "math_codes = [3909, 3900, 3907, 3903, 3000, 3001, 3004, 3005, 3006, \n",
    "              3007, 3008, 3905, 3908, 3940, 3939, 3923, 3918, 3919]\n",
    "\n",
    "# Step 2: Filter for math courses\n",
    "math_df = immersion_df[immersion_df[\"subject_code\"].isin(math_codes)].copy()\n",
    "\n",
    "# Step 3: Convert marks to numeric\n",
    "def to_numeric(x):\n",
    "    try:\n",
    "        return float(x)\n",
    "    except:\n",
    "        return None\n",
    "\n",
    "math_df[\"mark_numeric\"] = math_df[\"mark\"].apply(to_numeric)\n",
    "math_df = math_df.dropna(subset=[\"mark_numeric\"])\n",
    "\n",
    "# Step 4: Group by student and immersion type → get average math mark\n",
    "avg_math_by_type = math_df.groupby([\"student_nbr_hashed\", \"academic_yr\", \"immersion_type\"])[\"mark_numeric\"].mean().reset_index()\n",
    "\n",
    "# Step 5: Split into Early and Late groups\n",
    "early = avg_math_by_type[avg_math_by_type[\"immersion_type\"] == \"Immersion - Early\"][\"mark_numeric\"]\n",
    "late = avg_math_by_type[avg_math_by_type[\"immersion_type\"] == \"Immersion - Late\"][\"mark_numeric\"]\n",
    "\n",
    "# Step 6: Summary stats\n",
    "print(\"Early Immersion:\", f\"mean = {early.mean():.2f}, std = {early.std():.2f}, n = {len(early)}\")\n",
    "print(\"Late Immersion:\", f\"mean = {late.mean():.2f}, std = {late.std():.2f}, n = {len(late)}\")\n",
    "\n",
    "# Step 7: Welch’s t-test\n",
    "t_stat, p_val = ttest_ind(early, late, equal_var=False)\n",
    "print(f\"\\nWelch's t-test: t = {t_stat:.3f}, p = {p_val:.3e}\")\n"
   ]
  },
  {
   "cell_type": "code",
   "execution_count": 31,
   "id": "af8aeaf6",
   "metadata": {},
   "outputs": [],
   "source": [
    "def extract_grade(grade_code):\n",
    "    try:\n",
    "        first_digit = int(str(grade_code)[0])\n",
    "        return 8 + first_digit  # 1 → 9, 2 → 10, 3 → 11, 4 → 12\n",
    "    except:\n",
    "        return None\n",
    "\n",
    "immersion_df[\"grade_year\"] = immersion_df[\"grade_level\"].apply(extract_grade)\n"
   ]
  },
  {
   "cell_type": "code",
   "execution_count": 32,
   "id": "1eca7721",
   "metadata": {},
   "outputs": [],
   "source": [
    "math_codes = [3909, 3900, 3907, 3903, 3000, 3001, 3004, 3005, 3006,\n",
    "              3007, 3008, 3905, 3908, 3940, 3939, 3923, 3918, 3919]\n",
    "\n",
    "math_df = immersion_df[\n",
    "    (immersion_df[\"subject_code\"].isin(math_codes)) &\n",
    "    (immersion_df[\"grade_year\"].isin([9, 10, 11, 12]))\n",
    "].copy()\n"
   ]
  },
  {
   "cell_type": "code",
   "execution_count": 34,
   "id": "479fb1a9",
   "metadata": {},
   "outputs": [],
   "source": [
    "avg_math_by_grade = math_df.groupby(\n",
    "    [\"student_nbr_hashed\", \"academic_yr\", \"grade_year\"]\n",
    ")[\"mark\"].mean().reset_index()\n"
   ]
  },
  {
   "cell_type": "code",
   "execution_count": 36,
   "id": "8ba80768",
   "metadata": {},
   "outputs": [
    {
     "name": "stdout",
     "output_type": "stream",
     "text": [
      "Group sizes:\n",
      "Grade 9: 137\n",
      "Grade 10: 1047\n",
      "Grade 11: 890\n",
      "Grade 12: 853\n"
     ]
    }
   ],
   "source": [
    "group_9 = avg_math_by_grade[avg_math_by_grade[\"grade_year\"] == 9][\"mark\"]\n",
    "group_10 = avg_math_by_grade[avg_math_by_grade[\"grade_year\"] == 10][\"mark\"]\n",
    "group_11 = avg_math_by_grade[avg_math_by_grade[\"grade_year\"] == 11][\"mark\"]\n",
    "group_12 = avg_math_by_grade[avg_math_by_grade[\"grade_year\"] == 12][\"mark\"]\n",
    "\n",
    "print(\"Group sizes:\")\n",
    "print(\"Grade 9:\", len(group_9))\n",
    "print(\"Grade 10:\", len(group_10))\n",
    "print(\"Grade 11:\", len(group_11))\n",
    "print(\"Grade 12:\", len(group_12))\n"
   ]
  },
  {
   "cell_type": "code",
   "execution_count": 38,
   "id": "135247b5",
   "metadata": {},
   "outputs": [
    {
     "name": "stdout",
     "output_type": "stream",
     "text": [
      "Welch's ANOVA result:\n",
      "        Source  ddof1       ddof2         F     p-unc       np2\n",
      "0  grade_year      3  606.498679  3.188959  0.023331  0.003279\n"
     ]
    }
   ],
   "source": [
    "import pingouin as pg\n",
    "\n",
    "welch_result = pg.welch_anova(dv='mark', between='grade_year', data=avg_math_by_grade)\n",
    "print(\"Welch's ANOVA result:\\n\", welch_result)\n"
   ]
  },
  {
   "cell_type": "code",
   "execution_count": 40,
   "id": "2e1e888d",
   "metadata": {},
   "outputs": [
    {
     "name": "stdout",
     "output_type": "stream",
     "text": [
      "    A   B    mean(A)    mean(B)      diff        se         T           df  \\\n",
      "0   9  10  77.072993  76.579433  0.493559  1.589552  0.310502   172.203670   \n",
      "1   9  11  77.072993  74.974345  2.098648  1.610802  1.302859   181.294552   \n",
      "2   9  12  77.072993  77.412759 -0.339766  1.592456 -0.213360   173.354439   \n",
      "3  10  11  76.579433  74.974345  1.605089  0.796980  2.013964  1868.379809   \n",
      "4  10  12  76.579433  77.412759 -0.833326  0.759216 -1.097613  1871.556298   \n",
      "5  11  12  74.974345  77.412759 -2.438414  0.802756 -3.037552  1732.520535   \n",
      "\n",
      "       pval    hedges  \n",
      "0  0.989589  0.028568  \n",
      "1  0.562300  0.118693  \n",
      "2  0.996557 -0.021149  \n",
      "3  0.183115  0.091982  \n",
      "4  0.691044 -0.050163  \n",
      "5  0.012925 -0.145138  \n"
     ]
    }
   ],
   "source": [
    "import pingouin as pg\n",
    "\n",
    "# Run Games-Howell post-hoc test\n",
    "posthoc = pg.pairwise_gameshowell(dv='mark', between='grade_year', data=avg_math_by_grade)\n",
    "\n",
    "print(posthoc)\n",
    "\n"
   ]
  }
 ],
 "metadata": {
  "kernelspec": {
   "display_name": "dsi_participant",
   "language": "python",
   "name": "python3"
  },
  "language_info": {
   "codemirror_mode": {
    "name": "ipython",
    "version": 3
   },
   "file_extension": ".py",
   "mimetype": "text/x-python",
   "name": "python",
   "nbconvert_exporter": "python",
   "pygments_lexer": "ipython3",
   "version": "3.9.19"
  }
 },
 "nbformat": 4,
 "nbformat_minor": 5
}
